{
  "nbformat": 4,
  "nbformat_minor": 0,
  "metadata": {
    "kernelspec": {
      "display_name": "Python 3",
      "language": "python",
      "name": "python3"
    },
    "language_info": {
      "codemirror_mode": {
        "name": "ipython",
        "version": 3
      },
      "file_extension": ".py",
      "mimetype": "text/x-python",
      "name": "python",
      "nbconvert_exporter": "python",
      "pygments_lexer": "ipython3",
      "version": "3.8.5"
    },
    "colab": {
      "name": "Amarjit-Python-API.ipynb",
      "provenance": [],
      "collapsed_sections": []
    }
  },
  "cells": [
    {
      "cell_type": "code",
      "metadata": {
        "id": "46kRHbjZTxju"
      },
      "source": [
        "# Imports \n",
        "\n",
        "import requests\n",
        "import json\n",
        "import pandas as pd"
      ],
      "execution_count": 1,
      "outputs": []
    },
    {
      "cell_type": "code",
      "metadata": {
        "colab": {
          "base_uri": "https://localhost:8080/",
          "height": 77
        },
        "id": "NKiOuLdFTxj4",
        "outputId": "349a7c52-3004-40c2-8c3d-ac8a3b4aec10"
      },
      "source": [
        "# Get the Response Code\n",
        "# Storing Parameters\n",
        "params = (\n",
        "    ('contains', 'engineering and technology'),\n",
        ")\n",
        "response = requests.get('http://api.dataatwork.org/v1/skills/autocomplete', params=params)\n",
        "\n",
        "# converting to the json object\n",
        "response_json = response.json()\n",
        "\n",
        "# Creating a dataframe to store the response \n",
        "df = pd.DataFrame(response_json)\n",
        "df\n"
      ],
      "execution_count": 2,
      "outputs": [
        {
          "output_type": "execute_result",
          "data": {
            "text/html": [
              "<div>\n",
              "<style scoped>\n",
              "    .dataframe tbody tr th:only-of-type {\n",
              "        vertical-align: middle;\n",
              "    }\n",
              "\n",
              "    .dataframe tbody tr th {\n",
              "        vertical-align: top;\n",
              "    }\n",
              "\n",
              "    .dataframe thead th {\n",
              "        text-align: right;\n",
              "    }\n",
              "</style>\n",
              "<table border=\"1\" class=\"dataframe\">\n",
              "  <thead>\n",
              "    <tr style=\"text-align: right;\">\n",
              "      <th></th>\n",
              "      <th>uuid</th>\n",
              "      <th>suggestion</th>\n",
              "      <th>normalized_skill_name</th>\n",
              "    </tr>\n",
              "  </thead>\n",
              "  <tbody>\n",
              "    <tr>\n",
              "      <th>0</th>\n",
              "      <td>c09c8f8c163907ac25a37c3dd591ba2e</td>\n",
              "      <td>engineering and technology</td>\n",
              "      <td>engineering and technology</td>\n",
              "    </tr>\n",
              "  </tbody>\n",
              "</table>\n",
              "</div>"
            ],
            "text/plain": [
              "                               uuid  ...       normalized_skill_name\n",
              "0  c09c8f8c163907ac25a37c3dd591ba2e  ...  engineering and technology\n",
              "\n",
              "[1 rows x 3 columns]"
            ]
          },
          "metadata": {
            "tags": []
          },
          "execution_count": 2
        }
      ]
    },
    {
      "cell_type": "code",
      "metadata": {
        "colab": {
          "base_uri": "https://localhost:8080/"
        },
        "id": "-Zl3YabPQuiv",
        "outputId": "ac6aff0a-279d-4668-daf7-95746e6a0771"
      },
      "source": [
        "# Storing the value of Skill UUID in a variable\r\n",
        "Skill_UUID = []\r\n",
        "for i in range (len(df)):\r\n",
        "  Skill_UUID.append(df.iloc[i,0])\r\n",
        "print(Skill_UUID)"
      ],
      "execution_count": 3,
      "outputs": [
        {
          "output_type": "stream",
          "text": [
            "['c09c8f8c163907ac25a37c3dd591ba2e']\n"
          ],
          "name": "stdout"
        }
      ]
    },
    {
      "cell_type": "code",
      "metadata": {
        "colab": {
          "base_uri": "https://localhost:8080/"
        },
        "id": "q8zOm4BKhZPT",
        "outputId": "aa677be0-f160-4178-8f50-a9bb83da6590"
      },
      "source": [
        "# Storing the value of Skill UUID in a variable\r\n",
        "\r\n",
        "skillUUID = df.iloc[0,0]\r\n",
        "print(skillUUID)"
      ],
      "execution_count": 4,
      "outputs": [
        {
          "output_type": "stream",
          "text": [
            "c09c8f8c163907ac25a37c3dd591ba2e\n"
          ],
          "name": "stdout"
        }
      ]
    },
    {
      "cell_type": "code",
      "metadata": {
        "colab": {
          "base_uri": "https://localhost:8080/",
          "height": 35
        },
        "id": "Hf-SaIk19wtj",
        "outputId": "ec719182-caf2-4fd8-c01f-ea83e80a51fc"
      },
      "source": [
        "# Now we have to get the associated jobs for the skill (engineering and technology). \r\n",
        "# So the input to the URL will be the uid of skill (skillUUID)\r\n",
        "\r\n",
        "\r\n",
        "response2 = requests.get(\"http://api.dataatwork.org/v1/skills/\"+skillUUID+\"/related_jobs\")\r\n",
        "\r\n",
        "#verifying the correct URL\r\n",
        "response2.url"
      ],
      "execution_count": 5,
      "outputs": [
        {
          "output_type": "execute_result",
          "data": {
            "application/vnd.google.colaboratory.intrinsic+json": {
              "type": "string"
            },
            "text/plain": [
              "'http://api.dataatwork.org/v1/skills/c09c8f8c163907ac25a37c3dd591ba2e/related_jobs'"
            ]
          },
          "metadata": {
            "tags": []
          },
          "execution_count": 5
        }
      ]
    },
    {
      "cell_type": "code",
      "metadata": {
        "colab": {
          "base_uri": "https://localhost:8080/",
          "height": 402
        },
        "id": "xcDln9d0jwjF",
        "outputId": "1cf5c3b7-d096-480a-dab8-bcaa1983d3ab"
      },
      "source": [
        "response2_json = response2.json()\r\n",
        "\r\n",
        "# Creating a dataframe to store the response \r\n",
        "df2 = pd.DataFrame(response2_json)\r\n",
        "df2"
      ],
      "execution_count": 6,
      "outputs": [
        {
          "output_type": "execute_result",
          "data": {
            "text/html": [
              "<div>\n",
              "<style scoped>\n",
              "    .dataframe tbody tr th:only-of-type {\n",
              "        vertical-align: middle;\n",
              "    }\n",
              "\n",
              "    .dataframe tbody tr th {\n",
              "        vertical-align: top;\n",
              "    }\n",
              "\n",
              "    .dataframe thead th {\n",
              "        text-align: right;\n",
              "    }\n",
              "</style>\n",
              "<table border=\"1\" class=\"dataframe\">\n",
              "  <thead>\n",
              "    <tr style=\"text-align: right;\">\n",
              "      <th></th>\n",
              "      <th>skill_uuid</th>\n",
              "      <th>skill_name</th>\n",
              "      <th>normalized_skill_name</th>\n",
              "      <th>jobs</th>\n",
              "    </tr>\n",
              "  </thead>\n",
              "  <tbody>\n",
              "    <tr>\n",
              "      <th>0</th>\n",
              "      <td>c09c8f8c163907ac25a37c3dd591ba2e</td>\n",
              "      <td>engineering and technology</td>\n",
              "      <td>engineering and technology</td>\n",
              "      <td>{'job_uuid': '91e03483b47fc212441abba3acf5a4aa...</td>\n",
              "    </tr>\n",
              "    <tr>\n",
              "      <th>1</th>\n",
              "      <td>c09c8f8c163907ac25a37c3dd591ba2e</td>\n",
              "      <td>engineering and technology</td>\n",
              "      <td>engineering and technology</td>\n",
              "      <td>{'job_uuid': '19a7f05a1ba98db9e72086ebc8bd3ae0...</td>\n",
              "    </tr>\n",
              "    <tr>\n",
              "      <th>2</th>\n",
              "      <td>c09c8f8c163907ac25a37c3dd591ba2e</td>\n",
              "      <td>engineering and technology</td>\n",
              "      <td>engineering and technology</td>\n",
              "      <td>{'job_uuid': 'b8a5203799a5b6a9164b73170777fa11...</td>\n",
              "    </tr>\n",
              "    <tr>\n",
              "      <th>3</th>\n",
              "      <td>c09c8f8c163907ac25a37c3dd591ba2e</td>\n",
              "      <td>engineering and technology</td>\n",
              "      <td>engineering and technology</td>\n",
              "      <td>{'job_uuid': '351a52f8a687142e32acd0b6c331e61b...</td>\n",
              "    </tr>\n",
              "    <tr>\n",
              "      <th>4</th>\n",
              "      <td>c09c8f8c163907ac25a37c3dd591ba2e</td>\n",
              "      <td>engineering and technology</td>\n",
              "      <td>engineering and technology</td>\n",
              "      <td>{'job_uuid': '84f4c3f6e9e59cf9c4a840f6b5f2ebb3...</td>\n",
              "    </tr>\n",
              "    <tr>\n",
              "      <th>...</th>\n",
              "      <td>...</td>\n",
              "      <td>...</td>\n",
              "      <td>...</td>\n",
              "      <td>...</td>\n",
              "    </tr>\n",
              "    <tr>\n",
              "      <th>949</th>\n",
              "      <td>c09c8f8c163907ac25a37c3dd591ba2e</td>\n",
              "      <td>engineering and technology</td>\n",
              "      <td>engineering and technology</td>\n",
              "      <td>{'job_uuid': '998a71de29e992c5dc61cd79c09b6cd7...</td>\n",
              "    </tr>\n",
              "    <tr>\n",
              "      <th>950</th>\n",
              "      <td>c09c8f8c163907ac25a37c3dd591ba2e</td>\n",
              "      <td>engineering and technology</td>\n",
              "      <td>engineering and technology</td>\n",
              "      <td>{'job_uuid': '2311892cb8cf483f3b6a17489be5057d...</td>\n",
              "    </tr>\n",
              "    <tr>\n",
              "      <th>951</th>\n",
              "      <td>c09c8f8c163907ac25a37c3dd591ba2e</td>\n",
              "      <td>engineering and technology</td>\n",
              "      <td>engineering and technology</td>\n",
              "      <td>{'job_uuid': '90c550c8805a100bd96937740668cbc8...</td>\n",
              "    </tr>\n",
              "    <tr>\n",
              "      <th>952</th>\n",
              "      <td>c09c8f8c163907ac25a37c3dd591ba2e</td>\n",
              "      <td>engineering and technology</td>\n",
              "      <td>engineering and technology</td>\n",
              "      <td>{'job_uuid': '7bbe67cb54b2e639a6a6e3fe505e54bb...</td>\n",
              "    </tr>\n",
              "    <tr>\n",
              "      <th>953</th>\n",
              "      <td>c09c8f8c163907ac25a37c3dd591ba2e</td>\n",
              "      <td>engineering and technology</td>\n",
              "      <td>engineering and technology</td>\n",
              "      <td>{'job_uuid': 'a76814fe035ad5910922091a663b650f...</td>\n",
              "    </tr>\n",
              "  </tbody>\n",
              "</table>\n",
              "<p>954 rows × 4 columns</p>\n",
              "</div>"
            ],
            "text/plain": [
              "                           skill_uuid  ...                                               jobs\n",
              "0    c09c8f8c163907ac25a37c3dd591ba2e  ...  {'job_uuid': '91e03483b47fc212441abba3acf5a4aa...\n",
              "1    c09c8f8c163907ac25a37c3dd591ba2e  ...  {'job_uuid': '19a7f05a1ba98db9e72086ebc8bd3ae0...\n",
              "2    c09c8f8c163907ac25a37c3dd591ba2e  ...  {'job_uuid': 'b8a5203799a5b6a9164b73170777fa11...\n",
              "3    c09c8f8c163907ac25a37c3dd591ba2e  ...  {'job_uuid': '351a52f8a687142e32acd0b6c331e61b...\n",
              "4    c09c8f8c163907ac25a37c3dd591ba2e  ...  {'job_uuid': '84f4c3f6e9e59cf9c4a840f6b5f2ebb3...\n",
              "..                                ...  ...                                                ...\n",
              "949  c09c8f8c163907ac25a37c3dd591ba2e  ...  {'job_uuid': '998a71de29e992c5dc61cd79c09b6cd7...\n",
              "950  c09c8f8c163907ac25a37c3dd591ba2e  ...  {'job_uuid': '2311892cb8cf483f3b6a17489be5057d...\n",
              "951  c09c8f8c163907ac25a37c3dd591ba2e  ...  {'job_uuid': '90c550c8805a100bd96937740668cbc8...\n",
              "952  c09c8f8c163907ac25a37c3dd591ba2e  ...  {'job_uuid': '7bbe67cb54b2e639a6a6e3fe505e54bb...\n",
              "953  c09c8f8c163907ac25a37c3dd591ba2e  ...  {'job_uuid': 'a76814fe035ad5910922091a663b650f...\n",
              "\n",
              "[954 rows x 4 columns]"
            ]
          },
          "metadata": {
            "tags": []
          },
          "execution_count": 6
        }
      ]
    },
    {
      "cell_type": "code",
      "metadata": {
        "colab": {
          "base_uri": "https://localhost:8080/"
        },
        "id": "d1cDpTrf6Ec8",
        "outputId": "411a18c4-afb3-47f1-fa8a-cc836e19215a"
      },
      "source": [
        "df2.skill_uuid.unique()\r\n",
        "# verification - this dataframe contains all the associated jobs related to only one skill"
      ],
      "execution_count": 7,
      "outputs": [
        {
          "output_type": "execute_result",
          "data": {
            "text/plain": [
              "array(['c09c8f8c163907ac25a37c3dd591ba2e'], dtype=object)"
            ]
          },
          "metadata": {
            "tags": []
          },
          "execution_count": 7
        }
      ]
    },
    {
      "cell_type": "code",
      "metadata": {
        "colab": {
          "base_uri": "https://localhost:8080/"
        },
        "id": "NfQa22z643ub",
        "outputId": "4e7fd69f-4e8a-4576-ef72-52b812b47545"
      },
      "source": [
        "df2.jobs[1]"
      ],
      "execution_count": 8,
      "outputs": [
        {
          "output_type": "execute_result",
          "data": {
            "text/plain": [
              "{'importance': 4.92,\n",
              " 'job_title': 'Electronics Engineers, Except Computer',\n",
              " 'job_uuid': '19a7f05a1ba98db9e72086ebc8bd3ae0',\n",
              " 'level': 5.7,\n",
              " 'normalized_job_title': 'electronics engineers except computer'}"
            ]
          },
          "metadata": {
            "tags": []
          },
          "execution_count": 8
        }
      ]
    },
    {
      "cell_type": "code",
      "metadata": {
        "colab": {
          "base_uri": "https://localhost:8080/",
          "height": 402
        },
        "id": "OQoRpQvlkBON",
        "outputId": "fdbcbe30-4884-481f-aa83-99d299262b0e"
      },
      "source": [
        "# jobs column is in a nested json format.\r\n",
        "# To get the list of all the jobs (ie- job title), we have to flatten/normalize the json object.\r\n",
        "\r\n",
        "from pandas import json_normalize\r\n",
        "df_jobs = json_normalize(data=df2['jobs'])\r\n",
        "df_jobs"
      ],
      "execution_count": 9,
      "outputs": [
        {
          "output_type": "execute_result",
          "data": {
            "text/html": [
              "<div>\n",
              "<style scoped>\n",
              "    .dataframe tbody tr th:only-of-type {\n",
              "        vertical-align: middle;\n",
              "    }\n",
              "\n",
              "    .dataframe tbody tr th {\n",
              "        vertical-align: top;\n",
              "    }\n",
              "\n",
              "    .dataframe thead th {\n",
              "        text-align: right;\n",
              "    }\n",
              "</style>\n",
              "<table border=\"1\" class=\"dataframe\">\n",
              "  <thead>\n",
              "    <tr style=\"text-align: right;\">\n",
              "      <th></th>\n",
              "      <th>job_uuid</th>\n",
              "      <th>job_title</th>\n",
              "      <th>normalized_job_title</th>\n",
              "      <th>importance</th>\n",
              "      <th>level</th>\n",
              "    </tr>\n",
              "  </thead>\n",
              "  <tbody>\n",
              "    <tr>\n",
              "      <th>0</th>\n",
              "      <td>91e03483b47fc212441abba3acf5a4aa</td>\n",
              "      <td>Computer Hardware Engineers</td>\n",
              "      <td>computer hardware engineers</td>\n",
              "      <td>4.95</td>\n",
              "      <td>6.35</td>\n",
              "    </tr>\n",
              "    <tr>\n",
              "      <th>1</th>\n",
              "      <td>19a7f05a1ba98db9e72086ebc8bd3ae0</td>\n",
              "      <td>Electronics Engineers, Except Computer</td>\n",
              "      <td>electronics engineers except computer</td>\n",
              "      <td>4.92</td>\n",
              "      <td>5.70</td>\n",
              "    </tr>\n",
              "    <tr>\n",
              "      <th>2</th>\n",
              "      <td>b8a5203799a5b6a9164b73170777fa11</td>\n",
              "      <td>Automotive Engineers</td>\n",
              "      <td>automotive engineers</td>\n",
              "      <td>4.91</td>\n",
              "      <td>6.39</td>\n",
              "    </tr>\n",
              "    <tr>\n",
              "      <th>3</th>\n",
              "      <td>351a52f8a687142e32acd0b6c331e61b</td>\n",
              "      <td>Aerospace Engineering and Operations Technicians</td>\n",
              "      <td>aerospace engineering and operations technicians</td>\n",
              "      <td>4.91</td>\n",
              "      <td>6.35</td>\n",
              "    </tr>\n",
              "    <tr>\n",
              "      <th>4</th>\n",
              "      <td>84f4c3f6e9e59cf9c4a840f6b5f2ebb3</td>\n",
              "      <td>Mechanical Engineers</td>\n",
              "      <td>mechanical engineers</td>\n",
              "      <td>4.89</td>\n",
              "      <td>6.08</td>\n",
              "    </tr>\n",
              "    <tr>\n",
              "      <th>...</th>\n",
              "      <td>...</td>\n",
              "      <td>...</td>\n",
              "      <td>...</td>\n",
              "      <td>...</td>\n",
              "      <td>...</td>\n",
              "    </tr>\n",
              "    <tr>\n",
              "      <th>949</th>\n",
              "      <td>998a71de29e992c5dc61cd79c09b6cd7</td>\n",
              "      <td>Law Teachers, Postsecondary</td>\n",
              "      <td>law teachers postsecondary</td>\n",
              "      <td>1.02</td>\n",
              "      <td>0.02</td>\n",
              "    </tr>\n",
              "    <tr>\n",
              "      <th>950</th>\n",
              "      <td>2311892cb8cf483f3b6a17489be5057d</td>\n",
              "      <td>History Teachers, Postsecondary</td>\n",
              "      <td>history teachers postsecondary</td>\n",
              "      <td>1.02</td>\n",
              "      <td>0.02</td>\n",
              "    </tr>\n",
              "    <tr>\n",
              "      <th>951</th>\n",
              "      <td>90c550c8805a100bd96937740668cbc8</td>\n",
              "      <td>Loan Counselors</td>\n",
              "      <td>loan counselors</td>\n",
              "      <td>1.01</td>\n",
              "      <td>0.04</td>\n",
              "    </tr>\n",
              "    <tr>\n",
              "      <th>952</th>\n",
              "      <td>7bbe67cb54b2e639a6a6e3fe505e54bb</td>\n",
              "      <td>Marriage and Family Therapists</td>\n",
              "      <td>marriage and family therapists</td>\n",
              "      <td>1.00</td>\n",
              "      <td>0.00</td>\n",
              "    </tr>\n",
              "    <tr>\n",
              "      <th>953</th>\n",
              "      <td>a76814fe035ad5910922091a663b650f</td>\n",
              "      <td>Child, Family, and School Social Workers</td>\n",
              "      <td>child family and school social workers</td>\n",
              "      <td>1.00</td>\n",
              "      <td>0.00</td>\n",
              "    </tr>\n",
              "  </tbody>\n",
              "</table>\n",
              "<p>954 rows × 5 columns</p>\n",
              "</div>"
            ],
            "text/plain": [
              "                             job_uuid  ... level\n",
              "0    91e03483b47fc212441abba3acf5a4aa  ...  6.35\n",
              "1    19a7f05a1ba98db9e72086ebc8bd3ae0  ...  5.70\n",
              "2    b8a5203799a5b6a9164b73170777fa11  ...  6.39\n",
              "3    351a52f8a687142e32acd0b6c331e61b  ...  6.35\n",
              "4    84f4c3f6e9e59cf9c4a840f6b5f2ebb3  ...  6.08\n",
              "..                                ...  ...   ...\n",
              "949  998a71de29e992c5dc61cd79c09b6cd7  ...  0.02\n",
              "950  2311892cb8cf483f3b6a17489be5057d  ...  0.02\n",
              "951  90c550c8805a100bd96937740668cbc8  ...  0.04\n",
              "952  7bbe67cb54b2e639a6a6e3fe505e54bb  ...  0.00\n",
              "953  a76814fe035ad5910922091a663b650f  ...  0.00\n",
              "\n",
              "[954 rows x 5 columns]"
            ]
          },
          "metadata": {
            "tags": []
          },
          "execution_count": 9
        }
      ]
    },
    {
      "cell_type": "code",
      "metadata": {
        "colab": {
          "base_uri": "https://localhost:8080/"
        },
        "id": "vj-mEnwO6sdS",
        "outputId": "19a71bb4-b25a-432c-8926-291640cefd0c"
      },
      "source": [
        "# Adding a threshold for importance\r\n",
        "# We observe that this skills also fetches jobs like - marraige and family therapists and fire inspectors. Therefore we can set a threshold to get the right result.\r\n",
        "# We can set the threhold by finding the mean value of the importance.\r\n",
        "\r\n",
        "import numpy\r\n",
        "\r\n",
        "mean_imp = numpy.mean(df_jobs.importance)\r\n",
        "mean_imp"
      ],
      "execution_count": 10,
      "outputs": [
        {
          "output_type": "execute_result",
          "data": {
            "text/plain": [
              "2.295419287211741"
            ]
          },
          "metadata": {
            "tags": []
          },
          "execution_count": 10
        }
      ]
    },
    {
      "cell_type": "code",
      "metadata": {
        "colab": {
          "base_uri": "https://localhost:8080/",
          "height": 402
        },
        "id": "YdwIpsjO_yFp",
        "outputId": "55855318-ecda-4ebb-f402-af2d2838b3ed"
      },
      "source": [
        "df_relavant_job = df_jobs[df_jobs.importance > mean_imp]\r\n",
        "df_relavant_job"
      ],
      "execution_count": 11,
      "outputs": [
        {
          "output_type": "execute_result",
          "data": {
            "text/html": [
              "<div>\n",
              "<style scoped>\n",
              "    .dataframe tbody tr th:only-of-type {\n",
              "        vertical-align: middle;\n",
              "    }\n",
              "\n",
              "    .dataframe tbody tr th {\n",
              "        vertical-align: top;\n",
              "    }\n",
              "\n",
              "    .dataframe thead th {\n",
              "        text-align: right;\n",
              "    }\n",
              "</style>\n",
              "<table border=\"1\" class=\"dataframe\">\n",
              "  <thead>\n",
              "    <tr style=\"text-align: right;\">\n",
              "      <th></th>\n",
              "      <th>job_uuid</th>\n",
              "      <th>job_title</th>\n",
              "      <th>normalized_job_title</th>\n",
              "      <th>importance</th>\n",
              "      <th>level</th>\n",
              "    </tr>\n",
              "  </thead>\n",
              "  <tbody>\n",
              "    <tr>\n",
              "      <th>0</th>\n",
              "      <td>91e03483b47fc212441abba3acf5a4aa</td>\n",
              "      <td>Computer Hardware Engineers</td>\n",
              "      <td>computer hardware engineers</td>\n",
              "      <td>4.95</td>\n",
              "      <td>6.35</td>\n",
              "    </tr>\n",
              "    <tr>\n",
              "      <th>1</th>\n",
              "      <td>19a7f05a1ba98db9e72086ebc8bd3ae0</td>\n",
              "      <td>Electronics Engineers, Except Computer</td>\n",
              "      <td>electronics engineers except computer</td>\n",
              "      <td>4.92</td>\n",
              "      <td>5.70</td>\n",
              "    </tr>\n",
              "    <tr>\n",
              "      <th>2</th>\n",
              "      <td>b8a5203799a5b6a9164b73170777fa11</td>\n",
              "      <td>Automotive Engineers</td>\n",
              "      <td>automotive engineers</td>\n",
              "      <td>4.91</td>\n",
              "      <td>6.39</td>\n",
              "    </tr>\n",
              "    <tr>\n",
              "      <th>3</th>\n",
              "      <td>351a52f8a687142e32acd0b6c331e61b</td>\n",
              "      <td>Aerospace Engineering and Operations Technicians</td>\n",
              "      <td>aerospace engineering and operations technicians</td>\n",
              "      <td>4.91</td>\n",
              "      <td>6.35</td>\n",
              "    </tr>\n",
              "    <tr>\n",
              "      <th>4</th>\n",
              "      <td>84f4c3f6e9e59cf9c4a840f6b5f2ebb3</td>\n",
              "      <td>Mechanical Engineers</td>\n",
              "      <td>mechanical engineers</td>\n",
              "      <td>4.89</td>\n",
              "      <td>6.08</td>\n",
              "    </tr>\n",
              "    <tr>\n",
              "      <th>...</th>\n",
              "      <td>...</td>\n",
              "      <td>...</td>\n",
              "      <td>...</td>\n",
              "      <td>...</td>\n",
              "      <td>...</td>\n",
              "    </tr>\n",
              "    <tr>\n",
              "      <th>400</th>\n",
              "      <td>a0027102cc17450c4af6a33f755169d4</td>\n",
              "      <td>Pathologists</td>\n",
              "      <td>pathologists</td>\n",
              "      <td>2.30</td>\n",
              "      <td>2.24</td>\n",
              "    </tr>\n",
              "    <tr>\n",
              "      <th>401</th>\n",
              "      <td>c75f2c543a800f4e10a793dbc80e77e0</td>\n",
              "      <td>Terrazzo Workers and Finishers</td>\n",
              "      <td>terrazzo workers and finishers</td>\n",
              "      <td>2.30</td>\n",
              "      <td>2.48</td>\n",
              "    </tr>\n",
              "    <tr>\n",
              "      <th>402</th>\n",
              "      <td>87fb6860c6331839f27031738b19e89d</td>\n",
              "      <td>Automotive Glass Installers and Repairers</td>\n",
              "      <td>automotive glass installers and repairers</td>\n",
              "      <td>2.30</td>\n",
              "      <td>2.17</td>\n",
              "    </tr>\n",
              "    <tr>\n",
              "      <th>403</th>\n",
              "      <td>f14be7795c5db8af8ddcad205219f2c8</td>\n",
              "      <td>Home Appliance Repairers</td>\n",
              "      <td>home appliance repairers</td>\n",
              "      <td>2.30</td>\n",
              "      <td>2.53</td>\n",
              "    </tr>\n",
              "    <tr>\n",
              "      <th>404</th>\n",
              "      <td>e3e046b5ea09fac1a0d03b858b2982f6</td>\n",
              "      <td>Chemical Plant and System Operators</td>\n",
              "      <td>chemical plant and system operators</td>\n",
              "      <td>2.30</td>\n",
              "      <td>1.89</td>\n",
              "    </tr>\n",
              "  </tbody>\n",
              "</table>\n",
              "<p>405 rows × 5 columns</p>\n",
              "</div>"
            ],
            "text/plain": [
              "                             job_uuid  ... level\n",
              "0    91e03483b47fc212441abba3acf5a4aa  ...  6.35\n",
              "1    19a7f05a1ba98db9e72086ebc8bd3ae0  ...  5.70\n",
              "2    b8a5203799a5b6a9164b73170777fa11  ...  6.39\n",
              "3    351a52f8a687142e32acd0b6c331e61b  ...  6.35\n",
              "4    84f4c3f6e9e59cf9c4a840f6b5f2ebb3  ...  6.08\n",
              "..                                ...  ...   ...\n",
              "400  a0027102cc17450c4af6a33f755169d4  ...  2.24\n",
              "401  c75f2c543a800f4e10a793dbc80e77e0  ...  2.48\n",
              "402  87fb6860c6331839f27031738b19e89d  ...  2.17\n",
              "403  f14be7795c5db8af8ddcad205219f2c8  ...  2.53\n",
              "404  e3e046b5ea09fac1a0d03b858b2982f6  ...  1.89\n",
              "\n",
              "[405 rows x 5 columns]"
            ]
          },
          "metadata": {
            "tags": []
          },
          "execution_count": 11
        }
      ]
    },
    {
      "cell_type": "code",
      "metadata": {
        "id": "lla4-Tm496Zq"
      },
      "source": [
        "# Exporting the result to csv\r\n",
        "\r\n",
        "df_relavant_job.to_csv('job_list.csv', mode='w', columns=['job_title'], index=False)"
      ],
      "execution_count": 12,
      "outputs": []
    },
    {
      "cell_type": "code",
      "metadata": {
        "colab": {
          "base_uri": "https://localhost:8080/"
        },
        "id": "fpA5_9uPB-Ve",
        "outputId": "3401ed8b-bd29-400b-ba43-9e7f9871a967"
      },
      "source": [
        "# SUMMARIZING IN A SINGLE Function\r\n",
        "\r\n",
        "import requests\r\n",
        "import json\r\n",
        "import pandas as pd\r\n",
        "from pandas import json_normalize\r\n",
        "import numpy\r\n",
        "\r\n",
        "def skill_job (skill):\r\n",
        "  params = (('contains', skill),)\r\n",
        "  response = requests.get('http://api.dataatwork.org/v1/skills/autocomplete', params=params)\r\n",
        "  #print(response.url)\r\n",
        "  response_json = response.json()\r\n",
        "  df = pd.DataFrame(response_json)\r\n",
        "  skillUUID = df.iloc[0,0]\r\n",
        "  #print(skillUUID)\r\n",
        "  response2 = requests.get(\"http://api.dataatwork.org/v1/skills/\"+skillUUID+\"/related_jobs\")\r\n",
        "  #print(response2.url)\r\n",
        "  response2_json = response2.json()\r\n",
        "  df2 = pd.DataFrame(response2_json)\r\n",
        "  df_jobs = json_normalize(data=df2['jobs'])\r\n",
        "  mean_imp = numpy.mean(df_jobs.importance)\r\n",
        "  df_relavant_job = df_jobs[df_jobs.importance > mean_imp]\r\n",
        "  print(str(len(df_relavant_job)) + \" associated jobs found for the skill - \" +skill)\r\n",
        "  df_relavant_job.to_csv('job_list.csv', mode='w', columns=['job_title'], index=False)\r\n",
        "  print(\"Final list is exported. Please find the file named as job_list.csv\")\r\n",
        "\r\n",
        "\r\n",
        "try:\r\n",
        "  skill_job('engineering and technology')\r\n",
        "except:\r\n",
        "    print('Incorrect Skill Name. Please try again !')\r\n"
      ],
      "execution_count": 13,
      "outputs": [
        {
          "output_type": "stream",
          "text": [
            "405 associated jobs found for the skill - engineering and technology\n",
            "Final list is exported. Please find the file named as job_list.csv\n"
          ],
          "name": "stdout"
        }
      ]
    }
  ]
}