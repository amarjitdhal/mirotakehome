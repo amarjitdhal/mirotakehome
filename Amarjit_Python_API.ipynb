{
  "nbformat": 4,
  "nbformat_minor": 0,
  "metadata": {
    "kernelspec": {
      "display_name": "Python 3",
      "language": "python",
      "name": "python3"
    },
    "language_info": {
      "codemirror_mode": {
        "name": "ipython",
        "version": 3
      },
      "file_extension": ".py",
      "mimetype": "text/x-python",
      "name": "python",
      "nbconvert_exporter": "python",
      "pygments_lexer": "ipython3",
      "version": "3.8.5"
    },
    "colab": {
      "name": "Amarjit-Python-API.ipynb",
      "provenance": [],
      "collapsed_sections": [],
      "include_colab_link": true
    }
  },
  "cells": [
    {
      "cell_type": "markdown",
      "metadata": {
        "id": "view-in-github",
        "colab_type": "text"
      },
      "source": [
        "<a href=\"https://colab.research.google.com/github/amarjitdhal/mirotakehome/blob/main/Amarjit_Python_API.ipynb\" target=\"_parent\"><img src=\"https://colab.research.google.com/assets/colab-badge.svg\" alt=\"Open In Colab\"/></a>"
      ]
    },
    {
      "cell_type": "code",
      "metadata": {
        "id": "46kRHbjZTxju"
      },
      "source": [
        "# Imports \n",
        "\n",
        "import requests\n",
        "import json\n",
        "import pandas as pd"
      ],
      "execution_count": 41,
      "outputs": []
    },
    {
      "cell_type": "code",
      "metadata": {
        "colab": {
          "base_uri": "https://localhost:8080/",
          "height": 77
        },
        "id": "NKiOuLdFTxj4",
        "outputId": "862f5ae9-62da-4346-c1c0-27b957df11c3"
      },
      "source": [
        "# Get the Response Code\n",
        "# Storing Parameters\n",
        "params = (\n",
        "    ('contains', 'engineering and technology'),\n",
        ")\n",
        "response = requests.get('http://api.dataatwork.org/v1/skills/autocomplete', params=params)\n",
        "\n",
        "# converting to the json object\n",
        "response_json = response.json()\n",
        "\n",
        "# Creating a dataframe to store the response \n",
        "df = pd.DataFrame(response_json)\n",
        "df\n"
      ],
      "execution_count": 42,
      "outputs": [
        {
          "output_type": "execute_result",
          "data": {
            "text/html": [
              "<div>\n",
              "<style scoped>\n",
              "    .dataframe tbody tr th:only-of-type {\n",
              "        vertical-align: middle;\n",
              "    }\n",
              "\n",
              "    .dataframe tbody tr th {\n",
              "        vertical-align: top;\n",
              "    }\n",
              "\n",
              "    .dataframe thead th {\n",
              "        text-align: right;\n",
              "    }\n",
              "</style>\n",
              "<table border=\"1\" class=\"dataframe\">\n",
              "  <thead>\n",
              "    <tr style=\"text-align: right;\">\n",
              "      <th></th>\n",
              "      <th>uuid</th>\n",
              "      <th>suggestion</th>\n",
              "      <th>normalized_skill_name</th>\n",
              "    </tr>\n",
              "  </thead>\n",
              "  <tbody>\n",
              "    <tr>\n",
              "      <th>0</th>\n",
              "      <td>c09c8f8c163907ac25a37c3dd591ba2e</td>\n",
              "      <td>engineering and technology</td>\n",
              "      <td>engineering and technology</td>\n",
              "    </tr>\n",
              "  </tbody>\n",
              "</table>\n",
              "</div>"
            ],
            "text/plain": [
              "                               uuid  ...       normalized_skill_name\n",
              "0  c09c8f8c163907ac25a37c3dd591ba2e  ...  engineering and technology\n",
              "\n",
              "[1 rows x 3 columns]"
            ]
          },
          "metadata": {
            "tags": []
          },
          "execution_count": 42
        }
      ]
    },
    {
      "cell_type": "code",
      "metadata": {
        "colab": {
          "base_uri": "https://localhost:8080/"
        },
        "id": "-Zl3YabPQuiv",
        "outputId": "f2c926b8-9dea-4f90-9b32-63a03cc0c192"
      },
      "source": [
        "# Storing the value of Skill UUID in a variable\r\n",
        "Skill_UUID = []\r\n",
        "for i in range (len(df)):\r\n",
        "  Skill_UUID.append(df.iloc[i,0])\r\n",
        "print(Skill_UUID)"
      ],
      "execution_count": 43,
      "outputs": [
        {
          "output_type": "stream",
          "text": [
            "['c09c8f8c163907ac25a37c3dd591ba2e']\n"
          ],
          "name": "stdout"
        }
      ]
    },
    {
      "cell_type": "code",
      "metadata": {
        "colab": {
          "base_uri": "https://localhost:8080/"
        },
        "id": "q8zOm4BKhZPT",
        "outputId": "11fbbbd8-333e-460f-e95c-a692b87e2bc8"
      },
      "source": [
        "# Storing the value of Skill UUID in a variable\r\n",
        "\r\n",
        "skillUUID = df.iloc[0,0]\r\n",
        "print(skillUUID)"
      ],
      "execution_count": 44,
      "outputs": [
        {
          "output_type": "stream",
          "text": [
            "c09c8f8c163907ac25a37c3dd591ba2e\n"
          ],
          "name": "stdout"
        }
      ]
    },
    {
      "cell_type": "code",
      "metadata": {
        "colab": {
          "base_uri": "https://localhost:8080/",
          "height": 35
        },
        "id": "Hf-SaIk19wtj",
        "outputId": "1baf75c2-0b33-41fe-b1d9-2bb50a71669f"
      },
      "source": [
        "# Now we have to get the associated jobs for the skill (engineering and technology). \r\n",
        "# So the input to the URL will be the uid of skill (skillUUID)\r\n",
        "\r\n",
        "\r\n",
        "response2 = requests.get(\"http://api.dataatwork.org/v1/skills/\"+skillUUID+\"/related_jobs\")\r\n",
        "\r\n",
        "#verifying the correct URL\r\n",
        "response2.url"
      ],
      "execution_count": 45,
      "outputs": [
        {
          "output_type": "execute_result",
          "data": {
            "application/vnd.google.colaboratory.intrinsic+json": {
              "type": "string"
            },
            "text/plain": [
              "'http://api.dataatwork.org/v1/skills/c09c8f8c163907ac25a37c3dd591ba2e/related_jobs'"
            ]
          },
          "metadata": {
            "tags": []
          },
          "execution_count": 45
        }
      ]
    },
    {
      "cell_type": "code",
      "metadata": {
        "colab": {
          "base_uri": "https://localhost:8080/",
          "height": 402
        },
        "id": "xcDln9d0jwjF",
        "outputId": "44694de6-556e-4d46-c1c8-fe41fbd6fd3f"
      },
      "source": [
        "response2_json = response2.json()\r\n",
        "\r\n",
        "# Creating a dataframe to store the response \r\n",
        "df2 = pd.DataFrame(response2_json)\r\n",
        "df2"
      ],
      "execution_count": 46,
      "outputs": [
        {
          "output_type": "execute_result",
          "data": {
            "text/html": [
              "<div>\n",
              "<style scoped>\n",
              "    .dataframe tbody tr th:only-of-type {\n",
              "        vertical-align: middle;\n",
              "    }\n",
              "\n",
              "    .dataframe tbody tr th {\n",
              "        vertical-align: top;\n",
              "    }\n",
              "\n",
              "    .dataframe thead th {\n",
              "        text-align: right;\n",
              "    }\n",
              "</style>\n",
              "<table border=\"1\" class=\"dataframe\">\n",
              "  <thead>\n",
              "    <tr style=\"text-align: right;\">\n",
              "      <th></th>\n",
              "      <th>skill_uuid</th>\n",
              "      <th>skill_name</th>\n",
              "      <th>normalized_skill_name</th>\n",
              "      <th>jobs</th>\n",
              "    </tr>\n",
              "  </thead>\n",
              "  <tbody>\n",
              "    <tr>\n",
              "      <th>0</th>\n",
              "      <td>c09c8f8c163907ac25a37c3dd591ba2e</td>\n",
              "      <td>engineering and technology</td>\n",
              "      <td>engineering and technology</td>\n",
              "      <td>{'job_uuid': '91e03483b47fc212441abba3acf5a4aa...</td>\n",
              "    </tr>\n",
              "    <tr>\n",
              "      <th>1</th>\n",
              "      <td>c09c8f8c163907ac25a37c3dd591ba2e</td>\n",
              "      <td>engineering and technology</td>\n",
              "      <td>engineering and technology</td>\n",
              "      <td>{'job_uuid': '19a7f05a1ba98db9e72086ebc8bd3ae0...</td>\n",
              "    </tr>\n",
              "    <tr>\n",
              "      <th>2</th>\n",
              "      <td>c09c8f8c163907ac25a37c3dd591ba2e</td>\n",
              "      <td>engineering and technology</td>\n",
              "      <td>engineering and technology</td>\n",
              "      <td>{'job_uuid': 'b8a5203799a5b6a9164b73170777fa11...</td>\n",
              "    </tr>\n",
              "    <tr>\n",
              "      <th>3</th>\n",
              "      <td>c09c8f8c163907ac25a37c3dd591ba2e</td>\n",
              "      <td>engineering and technology</td>\n",
              "      <td>engineering and technology</td>\n",
              "      <td>{'job_uuid': '351a52f8a687142e32acd0b6c331e61b...</td>\n",
              "    </tr>\n",
              "    <tr>\n",
              "      <th>4</th>\n",
              "      <td>c09c8f8c163907ac25a37c3dd591ba2e</td>\n",
              "      <td>engineering and technology</td>\n",
              "      <td>engineering and technology</td>\n",
              "      <td>{'job_uuid': '84f4c3f6e9e59cf9c4a840f6b5f2ebb3...</td>\n",
              "    </tr>\n",
              "    <tr>\n",
              "      <th>...</th>\n",
              "      <td>...</td>\n",
              "      <td>...</td>\n",
              "      <td>...</td>\n",
              "      <td>...</td>\n",
              "    </tr>\n",
              "    <tr>\n",
              "      <th>949</th>\n",
              "      <td>c09c8f8c163907ac25a37c3dd591ba2e</td>\n",
              "      <td>engineering and technology</td>\n",
              "      <td>engineering and technology</td>\n",
              "      <td>{'job_uuid': '998a71de29e992c5dc61cd79c09b6cd7...</td>\n",
              "    </tr>\n",
              "    <tr>\n",
              "      <th>950</th>\n",
              "      <td>c09c8f8c163907ac25a37c3dd591ba2e</td>\n",
              "      <td>engineering and technology</td>\n",
              "      <td>engineering and technology</td>\n",
              "      <td>{'job_uuid': '2311892cb8cf483f3b6a17489be5057d...</td>\n",
              "    </tr>\n",
              "    <tr>\n",
              "      <th>951</th>\n",
              "      <td>c09c8f8c163907ac25a37c3dd591ba2e</td>\n",
              "      <td>engineering and technology</td>\n",
              "      <td>engineering and technology</td>\n",
              "      <td>{'job_uuid': '90c550c8805a100bd96937740668cbc8...</td>\n",
              "    </tr>\n",
              "    <tr>\n",
              "      <th>952</th>\n",
              "      <td>c09c8f8c163907ac25a37c3dd591ba2e</td>\n",
              "      <td>engineering and technology</td>\n",
              "      <td>engineering and technology</td>\n",
              "      <td>{'job_uuid': '7bbe67cb54b2e639a6a6e3fe505e54bb...</td>\n",
              "    </tr>\n",
              "    <tr>\n",
              "      <th>953</th>\n",
              "      <td>c09c8f8c163907ac25a37c3dd591ba2e</td>\n",
              "      <td>engineering and technology</td>\n",
              "      <td>engineering and technology</td>\n",
              "      <td>{'job_uuid': 'a76814fe035ad5910922091a663b650f...</td>\n",
              "    </tr>\n",
              "  </tbody>\n",
              "</table>\n",
              "<p>954 rows × 4 columns</p>\n",
              "</div>"
            ],
            "text/plain": [
              "                           skill_uuid  ...                                               jobs\n",
              "0    c09c8f8c163907ac25a37c3dd591ba2e  ...  {'job_uuid': '91e03483b47fc212441abba3acf5a4aa...\n",
              "1    c09c8f8c163907ac25a37c3dd591ba2e  ...  {'job_uuid': '19a7f05a1ba98db9e72086ebc8bd3ae0...\n",
              "2    c09c8f8c163907ac25a37c3dd591ba2e  ...  {'job_uuid': 'b8a5203799a5b6a9164b73170777fa11...\n",
              "3    c09c8f8c163907ac25a37c3dd591ba2e  ...  {'job_uuid': '351a52f8a687142e32acd0b6c331e61b...\n",
              "4    c09c8f8c163907ac25a37c3dd591ba2e  ...  {'job_uuid': '84f4c3f6e9e59cf9c4a840f6b5f2ebb3...\n",
              "..                                ...  ...                                                ...\n",
              "949  c09c8f8c163907ac25a37c3dd591ba2e  ...  {'job_uuid': '998a71de29e992c5dc61cd79c09b6cd7...\n",
              "950  c09c8f8c163907ac25a37c3dd591ba2e  ...  {'job_uuid': '2311892cb8cf483f3b6a17489be5057d...\n",
              "951  c09c8f8c163907ac25a37c3dd591ba2e  ...  {'job_uuid': '90c550c8805a100bd96937740668cbc8...\n",
              "952  c09c8f8c163907ac25a37c3dd591ba2e  ...  {'job_uuid': '7bbe67cb54b2e639a6a6e3fe505e54bb...\n",
              "953  c09c8f8c163907ac25a37c3dd591ba2e  ...  {'job_uuid': 'a76814fe035ad5910922091a663b650f...\n",
              "\n",
              "[954 rows x 4 columns]"
            ]
          },
          "metadata": {
            "tags": []
          },
          "execution_count": 46
        }
      ]
    },
    {
      "cell_type": "code",
      "metadata": {
        "colab": {
          "base_uri": "https://localhost:8080/"
        },
        "id": "d1cDpTrf6Ec8",
        "outputId": "fa5d590d-44b2-4715-f430-84d83d774937"
      },
      "source": [
        "df2.skill_uuid.unique()\r\n",
        "# verification - this dataframe contains all the associated jobs related to only one skill"
      ],
      "execution_count": 47,
      "outputs": [
        {
          "output_type": "execute_result",
          "data": {
            "text/plain": [
              "array(['c09c8f8c163907ac25a37c3dd591ba2e'], dtype=object)"
            ]
          },
          "metadata": {
            "tags": []
          },
          "execution_count": 47
        }
      ]
    },
    {
      "cell_type": "code",
      "metadata": {
        "colab": {
          "base_uri": "https://localhost:8080/"
        },
        "id": "NfQa22z643ub",
        "outputId": "faef722b-3bb8-40c3-9691-948dbd78c86b"
      },
      "source": [
        "df2.jobs[1]"
      ],
      "execution_count": 48,
      "outputs": [
        {
          "output_type": "execute_result",
          "data": {
            "text/plain": [
              "{'importance': 4.92,\n",
              " 'job_title': 'Electronics Engineers, Except Computer',\n",
              " 'job_uuid': '19a7f05a1ba98db9e72086ebc8bd3ae0',\n",
              " 'level': 5.7,\n",
              " 'normalized_job_title': 'electronics engineers except computer'}"
            ]
          },
          "metadata": {
            "tags": []
          },
          "execution_count": 48
        }
      ]
    },
    {
      "cell_type": "code",
      "metadata": {
        "colab": {
          "base_uri": "https://localhost:8080/",
          "height": 402
        },
        "id": "OQoRpQvlkBON",
        "outputId": "351a0544-c24f-4b03-a10d-1d0d005dcb4e"
      },
      "source": [
        "# jobs column is in a nested json format.\r\n",
        "# To get the list of all the jobs (ie- job title), we have to flatten/normalize the json object.\r\n",
        "\r\n",
        "from pandas import json_normalize\r\n",
        "df_jobs = json_normalize(data=df2['jobs'])\r\n",
        "df_jobs"
      ],
      "execution_count": 49,
      "outputs": [
        {
          "output_type": "execute_result",
          "data": {
            "text/html": [
              "<div>\n",
              "<style scoped>\n",
              "    .dataframe tbody tr th:only-of-type {\n",
              "        vertical-align: middle;\n",
              "    }\n",
              "\n",
              "    .dataframe tbody tr th {\n",
              "        vertical-align: top;\n",
              "    }\n",
              "\n",
              "    .dataframe thead th {\n",
              "        text-align: right;\n",
              "    }\n",
              "</style>\n",
              "<table border=\"1\" class=\"dataframe\">\n",
              "  <thead>\n",
              "    <tr style=\"text-align: right;\">\n",
              "      <th></th>\n",
              "      <th>job_uuid</th>\n",
              "      <th>job_title</th>\n",
              "      <th>normalized_job_title</th>\n",
              "      <th>importance</th>\n",
              "      <th>level</th>\n",
              "    </tr>\n",
              "  </thead>\n",
              "  <tbody>\n",
              "    <tr>\n",
              "      <th>0</th>\n",
              "      <td>91e03483b47fc212441abba3acf5a4aa</td>\n",
              "      <td>Computer Hardware Engineers</td>\n",
              "      <td>computer hardware engineers</td>\n",
              "      <td>4.95</td>\n",
              "      <td>6.35</td>\n",
              "    </tr>\n",
              "    <tr>\n",
              "      <th>1</th>\n",
              "      <td>19a7f05a1ba98db9e72086ebc8bd3ae0</td>\n",
              "      <td>Electronics Engineers, Except Computer</td>\n",
              "      <td>electronics engineers except computer</td>\n",
              "      <td>4.92</td>\n",
              "      <td>5.70</td>\n",
              "    </tr>\n",
              "    <tr>\n",
              "      <th>2</th>\n",
              "      <td>b8a5203799a5b6a9164b73170777fa11</td>\n",
              "      <td>Automotive Engineers</td>\n",
              "      <td>automotive engineers</td>\n",
              "      <td>4.91</td>\n",
              "      <td>6.39</td>\n",
              "    </tr>\n",
              "    <tr>\n",
              "      <th>3</th>\n",
              "      <td>351a52f8a687142e32acd0b6c331e61b</td>\n",
              "      <td>Aerospace Engineering and Operations Technicians</td>\n",
              "      <td>aerospace engineering and operations technicians</td>\n",
              "      <td>4.91</td>\n",
              "      <td>6.35</td>\n",
              "    </tr>\n",
              "    <tr>\n",
              "      <th>4</th>\n",
              "      <td>84f4c3f6e9e59cf9c4a840f6b5f2ebb3</td>\n",
              "      <td>Mechanical Engineers</td>\n",
              "      <td>mechanical engineers</td>\n",
              "      <td>4.89</td>\n",
              "      <td>6.08</td>\n",
              "    </tr>\n",
              "    <tr>\n",
              "      <th>...</th>\n",
              "      <td>...</td>\n",
              "      <td>...</td>\n",
              "      <td>...</td>\n",
              "      <td>...</td>\n",
              "      <td>...</td>\n",
              "    </tr>\n",
              "    <tr>\n",
              "      <th>949</th>\n",
              "      <td>998a71de29e992c5dc61cd79c09b6cd7</td>\n",
              "      <td>Law Teachers, Postsecondary</td>\n",
              "      <td>law teachers postsecondary</td>\n",
              "      <td>1.02</td>\n",
              "      <td>0.02</td>\n",
              "    </tr>\n",
              "    <tr>\n",
              "      <th>950</th>\n",
              "      <td>2311892cb8cf483f3b6a17489be5057d</td>\n",
              "      <td>History Teachers, Postsecondary</td>\n",
              "      <td>history teachers postsecondary</td>\n",
              "      <td>1.02</td>\n",
              "      <td>0.02</td>\n",
              "    </tr>\n",
              "    <tr>\n",
              "      <th>951</th>\n",
              "      <td>90c550c8805a100bd96937740668cbc8</td>\n",
              "      <td>Loan Counselors</td>\n",
              "      <td>loan counselors</td>\n",
              "      <td>1.01</td>\n",
              "      <td>0.04</td>\n",
              "    </tr>\n",
              "    <tr>\n",
              "      <th>952</th>\n",
              "      <td>7bbe67cb54b2e639a6a6e3fe505e54bb</td>\n",
              "      <td>Marriage and Family Therapists</td>\n",
              "      <td>marriage and family therapists</td>\n",
              "      <td>1.00</td>\n",
              "      <td>0.00</td>\n",
              "    </tr>\n",
              "    <tr>\n",
              "      <th>953</th>\n",
              "      <td>a76814fe035ad5910922091a663b650f</td>\n",
              "      <td>Child, Family, and School Social Workers</td>\n",
              "      <td>child family and school social workers</td>\n",
              "      <td>1.00</td>\n",
              "      <td>0.00</td>\n",
              "    </tr>\n",
              "  </tbody>\n",
              "</table>\n",
              "<p>954 rows × 5 columns</p>\n",
              "</div>"
            ],
            "text/plain": [
              "                             job_uuid  ... level\n",
              "0    91e03483b47fc212441abba3acf5a4aa  ...  6.35\n",
              "1    19a7f05a1ba98db9e72086ebc8bd3ae0  ...  5.70\n",
              "2    b8a5203799a5b6a9164b73170777fa11  ...  6.39\n",
              "3    351a52f8a687142e32acd0b6c331e61b  ...  6.35\n",
              "4    84f4c3f6e9e59cf9c4a840f6b5f2ebb3  ...  6.08\n",
              "..                                ...  ...   ...\n",
              "949  998a71de29e992c5dc61cd79c09b6cd7  ...  0.02\n",
              "950  2311892cb8cf483f3b6a17489be5057d  ...  0.02\n",
              "951  90c550c8805a100bd96937740668cbc8  ...  0.04\n",
              "952  7bbe67cb54b2e639a6a6e3fe505e54bb  ...  0.00\n",
              "953  a76814fe035ad5910922091a663b650f  ...  0.00\n",
              "\n",
              "[954 rows x 5 columns]"
            ]
          },
          "metadata": {
            "tags": []
          },
          "execution_count": 49
        }
      ]
    },
    {
      "cell_type": "code",
      "metadata": {
        "colab": {
          "base_uri": "https://localhost:8080/"
        },
        "id": "vj-mEnwO6sdS",
        "outputId": "ecc2bd5f-e1c2-4310-c388-fc32c0523837"
      },
      "source": [
        "# Adding a threshold for importance\r\n",
        "# We observe that this skills also fetches jobs like - marraige and family therapists and fire inspectors. Therefore we can set a threshold to get the right result.\r\n",
        "# We can set the threhold by finding the mean value of the importance.\r\n",
        "\r\n",
        "import numpy\r\n",
        "\r\n",
        "mean_imp = numpy.mean(df_jobs.importance)\r\n",
        "mean_imp"
      ],
      "execution_count": 50,
      "outputs": [
        {
          "output_type": "execute_result",
          "data": {
            "text/plain": [
              "2.295419287211741"
            ]
          },
          "metadata": {
            "tags": []
          },
          "execution_count": 50
        }
      ]
    },
    {
      "cell_type": "code",
      "metadata": {
        "colab": {
          "base_uri": "https://localhost:8080/",
          "height": 402
        },
        "id": "YdwIpsjO_yFp",
        "outputId": "6468f524-a355-40b0-d6fb-df020319b49b"
      },
      "source": [
        "df_relavant_job = df_jobs[df_jobs.importance > mean_imp]\r\n",
        "df_relavant_job"
      ],
      "execution_count": 51,
      "outputs": [
        {
          "output_type": "execute_result",
          "data": {
            "text/html": [
              "<div>\n",
              "<style scoped>\n",
              "    .dataframe tbody tr th:only-of-type {\n",
              "        vertical-align: middle;\n",
              "    }\n",
              "\n",
              "    .dataframe tbody tr th {\n",
              "        vertical-align: top;\n",
              "    }\n",
              "\n",
              "    .dataframe thead th {\n",
              "        text-align: right;\n",
              "    }\n",
              "</style>\n",
              "<table border=\"1\" class=\"dataframe\">\n",
              "  <thead>\n",
              "    <tr style=\"text-align: right;\">\n",
              "      <th></th>\n",
              "      <th>job_uuid</th>\n",
              "      <th>job_title</th>\n",
              "      <th>normalized_job_title</th>\n",
              "      <th>importance</th>\n",
              "      <th>level</th>\n",
              "    </tr>\n",
              "  </thead>\n",
              "  <tbody>\n",
              "    <tr>\n",
              "      <th>0</th>\n",
              "      <td>91e03483b47fc212441abba3acf5a4aa</td>\n",
              "      <td>Computer Hardware Engineers</td>\n",
              "      <td>computer hardware engineers</td>\n",
              "      <td>4.95</td>\n",
              "      <td>6.35</td>\n",
              "    </tr>\n",
              "    <tr>\n",
              "      <th>1</th>\n",
              "      <td>19a7f05a1ba98db9e72086ebc8bd3ae0</td>\n",
              "      <td>Electronics Engineers, Except Computer</td>\n",
              "      <td>electronics engineers except computer</td>\n",
              "      <td>4.92</td>\n",
              "      <td>5.70</td>\n",
              "    </tr>\n",
              "    <tr>\n",
              "      <th>2</th>\n",
              "      <td>b8a5203799a5b6a9164b73170777fa11</td>\n",
              "      <td>Automotive Engineers</td>\n",
              "      <td>automotive engineers</td>\n",
              "      <td>4.91</td>\n",
              "      <td>6.39</td>\n",
              "    </tr>\n",
              "    <tr>\n",
              "      <th>3</th>\n",
              "      <td>351a52f8a687142e32acd0b6c331e61b</td>\n",
              "      <td>Aerospace Engineering and Operations Technicians</td>\n",
              "      <td>aerospace engineering and operations technicians</td>\n",
              "      <td>4.91</td>\n",
              "      <td>6.35</td>\n",
              "    </tr>\n",
              "    <tr>\n",
              "      <th>4</th>\n",
              "      <td>84f4c3f6e9e59cf9c4a840f6b5f2ebb3</td>\n",
              "      <td>Mechanical Engineers</td>\n",
              "      <td>mechanical engineers</td>\n",
              "      <td>4.89</td>\n",
              "      <td>6.08</td>\n",
              "    </tr>\n",
              "    <tr>\n",
              "      <th>...</th>\n",
              "      <td>...</td>\n",
              "      <td>...</td>\n",
              "      <td>...</td>\n",
              "      <td>...</td>\n",
              "      <td>...</td>\n",
              "    </tr>\n",
              "    <tr>\n",
              "      <th>400</th>\n",
              "      <td>a0027102cc17450c4af6a33f755169d4</td>\n",
              "      <td>Pathologists</td>\n",
              "      <td>pathologists</td>\n",
              "      <td>2.30</td>\n",
              "      <td>2.24</td>\n",
              "    </tr>\n",
              "    <tr>\n",
              "      <th>401</th>\n",
              "      <td>c75f2c543a800f4e10a793dbc80e77e0</td>\n",
              "      <td>Terrazzo Workers and Finishers</td>\n",
              "      <td>terrazzo workers and finishers</td>\n",
              "      <td>2.30</td>\n",
              "      <td>2.48</td>\n",
              "    </tr>\n",
              "    <tr>\n",
              "      <th>402</th>\n",
              "      <td>87fb6860c6331839f27031738b19e89d</td>\n",
              "      <td>Automotive Glass Installers and Repairers</td>\n",
              "      <td>automotive glass installers and repairers</td>\n",
              "      <td>2.30</td>\n",
              "      <td>2.17</td>\n",
              "    </tr>\n",
              "    <tr>\n",
              "      <th>403</th>\n",
              "      <td>f14be7795c5db8af8ddcad205219f2c8</td>\n",
              "      <td>Home Appliance Repairers</td>\n",
              "      <td>home appliance repairers</td>\n",
              "      <td>2.30</td>\n",
              "      <td>2.53</td>\n",
              "    </tr>\n",
              "    <tr>\n",
              "      <th>404</th>\n",
              "      <td>e3e046b5ea09fac1a0d03b858b2982f6</td>\n",
              "      <td>Chemical Plant and System Operators</td>\n",
              "      <td>chemical plant and system operators</td>\n",
              "      <td>2.30</td>\n",
              "      <td>1.89</td>\n",
              "    </tr>\n",
              "  </tbody>\n",
              "</table>\n",
              "<p>405 rows × 5 columns</p>\n",
              "</div>"
            ],
            "text/plain": [
              "                             job_uuid  ... level\n",
              "0    91e03483b47fc212441abba3acf5a4aa  ...  6.35\n",
              "1    19a7f05a1ba98db9e72086ebc8bd3ae0  ...  5.70\n",
              "2    b8a5203799a5b6a9164b73170777fa11  ...  6.39\n",
              "3    351a52f8a687142e32acd0b6c331e61b  ...  6.35\n",
              "4    84f4c3f6e9e59cf9c4a840f6b5f2ebb3  ...  6.08\n",
              "..                                ...  ...   ...\n",
              "400  a0027102cc17450c4af6a33f755169d4  ...  2.24\n",
              "401  c75f2c543a800f4e10a793dbc80e77e0  ...  2.48\n",
              "402  87fb6860c6331839f27031738b19e89d  ...  2.17\n",
              "403  f14be7795c5db8af8ddcad205219f2c8  ...  2.53\n",
              "404  e3e046b5ea09fac1a0d03b858b2982f6  ...  1.89\n",
              "\n",
              "[405 rows x 5 columns]"
            ]
          },
          "metadata": {
            "tags": []
          },
          "execution_count": 51
        }
      ]
    },
    {
      "cell_type": "code",
      "metadata": {
        "id": "lla4-Tm496Zq"
      },
      "source": [
        "# Exporting the result to csv\r\n",
        "\r\n",
        "df_relavant_job.to_csv('job_list.csv', mode='w', columns=['job_title'], index=False)"
      ],
      "execution_count": 52,
      "outputs": []
    },
    {
      "cell_type": "code",
      "metadata": {
        "colab": {
          "base_uri": "https://localhost:8080/"
        },
        "id": "fpA5_9uPB-Ve",
        "outputId": "1a0f9fd9-30b6-4a7f-e11f-7d0f9450f258"
      },
      "source": [
        "# SUMMARIZING IN A SINGLE Function\r\n",
        "\r\n",
        "import requests\r\n",
        "import json\r\n",
        "import pandas as pd\r\n",
        "from pandas import json_normalize\r\n",
        "import numpy\r\n",
        "\r\n",
        "def skill_job (skill):\r\n",
        "  params = (('contains', skill),)\r\n",
        "  response = requests.get('http://api.dataatwork.org/v1/skills/autocomplete', params=params)\r\n",
        "  #print(response.url)\r\n",
        "  response_json = response.json()\r\n",
        "  df = pd.DataFrame(response_json)\r\n",
        "  skillUUID = df.iloc[0,0]\r\n",
        "  #print(skillUUID)\r\n",
        "  response2 = requests.get(\"http://api.dataatwork.org/v1/skills/\"+skillUUID+\"/related_jobs\")\r\n",
        "  #print(response2.url)\r\n",
        "  response2_json = response2.json()\r\n",
        "  df2 = pd.DataFrame(response2_json)\r\n",
        "  df_jobs = json_normalize(data=df2['jobs'])\r\n",
        "  mean_imp = numpy.mean(df_jobs.importance)\r\n",
        "  df_relavant_job = df_jobs[df_jobs.importance > mean_imp]\r\n",
        "  print(str(len(df_relavant_job)) + \" associated jobs found for the skill - \" +skill)\r\n",
        "  df_relavant_job.to_csv('job_list.csv', mode='w', columns=['job_title'], index=False)\r\n",
        "  print(\"Final list is exported. Please find the file named as job_list.csv\")\r\n",
        "\r\n",
        "\r\n",
        "try:\r\n",
        "  skill_job('engineering and technology')\r\n",
        "except:\r\n",
        "    print('Incorrect Skill Name. Please try again !')\r\n"
      ],
      "execution_count": 53,
      "outputs": [
        {
          "output_type": "stream",
          "text": [
            "405 associated jobs found for the skill - engineering and technology\n",
            "Final list is exported. Please find the file named as job_list.csv\n"
          ],
          "name": "stdout"
        }
      ]
    },
    {
      "cell_type": "code",
      "metadata": {
        "id": "vu0j3UR85aCP",
        "colab": {
          "base_uri": "https://localhost:8080/",
          "height": 120
        },
        "outputId": "bc439fcd-3a12-4913-e1f7-6d3bb98e9073"
      },
      "source": [
        "# Convert the jobs to a list and create a json object which will be used for the http request\r\n",
        "\r\n",
        "job_list = df_relavant_job['job_title'].tolist()\r\n",
        "job_jsn = json.dumps({'job title': job_list})\r\n",
        "job_jsn"
      ],
      "execution_count": 54,
      "outputs": [
        {
          "output_type": "execute_result",
          "data": {
            "application/vnd.google.colaboratory.intrinsic+json": {
              "type": "string"
            },
            "text/plain": [
              "'{\"job title\": [\"Computer Hardware Engineers\", \"Electronics Engineers, Except Computer\", \"Automotive Engineers\", \"Aerospace Engineering and Operations Technicians\", \"Mechanical Engineers\", \"Chemical Engineers\", \"Architectural and Engineering Managers\", \"Nuclear Engineers\", \"Transportation Engineers\", \"Wind Energy Engineers\", \"Mechatronics Engineers\", \"Electrical Engineering Technologists\", \"Agricultural Engineers\", \"Petroleum Engineers\", \"Aerospace Engineers\", \"Water/Wastewater Engineers\", \"Manufacturing Engineering Technologists\", \"Nanosystems Engineers\", \"Fuel Cell Engineers\", \"Photonics Engineers\", \"Manufacturing Engineers\", \"Mechanical Engineering Technologists\", \"Electrical Engineers\", \"Materials Engineers\", \"Fire-Prevention and Protection Engineers\", \"Civil Engineers\", \"Marine Architects\", \"Mining and Geological Engineers, Including Mining Safety Engineers\", \"Robotics Engineers\", \"Traffic Technicians\", \"Engineering Teachers, Postsecondary\", \"Radio Frequency Identification Device Specialists\", \"Marine Engineers\", \"Environmental Engineers\", \"Biomedical Engineers\", \"Commercial and Industrial Designers\", \"Materials Scientists\", \"Energy Engineers\", \"Biochemical Engineers\", \"Industrial Engineers\", \"Industrial Safety and Health Engineers\", \"Electronic Drafters\", \"Water Resource Specialists\", \"Electronics Engineering Technicians\", \"Electronics Engineering Technologists\", \"Solar Energy Systems Engineers\", \"Product Safety Engineers\", \"Surveyors\", \"Industrial Engineering Technologists\", \"Electromechanical Engineering Technologists\", \"Mechanical Drafters\", \"Computer Systems Engineers/Architects\", \"Validation Engineers\", \"Electrical and Electronics Repairers, Commercial and Industrial Equipment\", \"Robotics Technicians\", \"Mechanical Engineering Technicians\", \"Architecture Teachers, Postsecondary\", \"Physicists\", \"Electrical Engineering Technicians\", \"Industrial Engineering Technicians\", \"Construction Managers\", \"Electrical Drafters\", \"Solar Thermal Installers and Technicians\", \"Tool and Die Makers\", \"Logistics Engineers\", \"Hydrologists\", \"Broadcast Technicians\", \"Human Factors Engineers and Ergonomists\", \"Biofuels/Biodiesel Technology and Product Development Managers\", \"Software Developers, Systems Software\", \"Geophysical Data Technicians\", \"Radio Mechanics\", \"Photonics Technicians\", \"Ship Engineers\", \"Radio, Cellular, and Tower Equipment Installers and Repairers\", \"Solar Energy Installation Managers\", \"Architectural Drafters\", \"Electronic Home Entertainment Equipment Installers and Repairers\", \"Civil Drafters\", \"Civil Engineering Technicians\", \"Manufacturing Production Technicians\", \"Security Management Specialists\", \"Geodetic Surveyors\", \"Industrial Ecologists\", \"Cost Estimators\", \"Geothermal Production Managers\", \"Aquacultural Managers\", \"Government Property Inspectors and Investigators\", \"Biomass Power Plant Managers\", \"Computer Science Teachers, Postsecondary\", \"Avionics Technicians\", \"Model Makers, Wood\", \"Sound Engineering Technicians\", \"Construction and Building Inspectors\", \"Computer Numerically Controlled Machine Tool Programmers, Metal and Plastic\", \"Environmental Engineering Technicians\", \"Wind Turbine Service Technicians\", \"Telecommunications Engineering Specialists\", \"Food Scientists and Technologists\", \"Surveying Technicians\", \"Industrial Machinery Mechanics\", \"Occupational Health and Safety Specialists\", \"Sales Engineers\", \"Aviation Inspectors\", \"Electronic Equipment Installers and Repairers, Motor Vehicles\", \"Solar Sales Representatives and Assessors\", \"First-Line Supervisors of Mechanics, Installers, and Repairers\", \"Automotive Master Mechanics\", \"Software Quality Assurance Engineers and Testers\", \"Architects, Except Landscape and Naval\", \"Manufactured Building and Mobile Home Installers\", \"Patternmakers, Metal and Plastic\", \"Brownfield Redevelopment Specialists and Site Managers\", \"Landscape Architects\", \"Non-Destructive Testing Specialists\", \"Nuclear Power Reactor Operators\", \"Prosthodontists\", \"Computer Network Architects\", \"Electro-Mechanical Technicians\", \"Medical Equipment Repairers\", \"Mathematicians\", \"Industrial Production Managers\", \"Remote Sensing Technicians\", \"Dental Laboratory Technicians\", \"Refrigeration Mechanics and Installers\", \"Bicycle Repairers\", \"Remote Sensing Scientists and Technologists\", \"Nuclear Equipment Operation Technicians\", \"Orthotists and Prosthetists\", \"Physics Teachers, Postsecondary\", \"Computer Network Support Specialists\", \"Electrical and Electronics Installers and Repairers, Transportation Equipment\", \"Aircraft Mechanics and Service Technicians\", \"Geographic Information Systems Technicians\", \"Soil and Water Conservationists\", \"Geoscientists, Except Hydrologists and Geographers\", \"Service Unit Operators, Oil, Gas, and Mining\", \"Chief Sustainability Officers\", \"Information Security Analysts\", \"Technical Directors/Managers\", \"Riggers\", \"Power Distributors and Dispatchers\", \"Camera Operators, Television, Video, and Motion Picture\", \"Computer-Controlled Machine Tool Operators, Metal and Plastic\", \"Sailors and Marine Oilers\", \"Computer and Information Research Scientists\", \"Database Architects\", \"Explosives Workers, Ordnance Handling Experts, and Blasters\", \"Mobile Heavy Equipment Mechanics, Except Engines\", \"Patternmakers, Wood\", \"Geospatial Information Scientists and Technologists\", \"Elevator Installers and Repairers\", \"Watch Repairers\", \"Occupational Health and Safety Technicians\", \"Millwrights\", \"Astronomers\", \"Bus and Truck Mechanics and Diesel Engine Specialists\", \"Solar Photovoltaic Installers\", \"Environmental Science and Protection Technicians, Including Health\", \"Directors- Stage, Motion Pictures, Television, and Radio\", \"Camera and Photographic Equipment Repairers\", \"First-Line Supervisors of Aquacultural Workers\", \"Motorboat Mechanics and Service Technicians\", \"Environmental Compliance Inspectors\", \"Computer Systems Analysts\", \"Electromechanical Equipment Assemblers\", \"Audio and Video Equipment Technicians\", \"Sustainability Specialists\", \"Operations Research Analysts\", \"Set and Exhibit Designers\", \"Chemistry Teachers, Postsecondary\", \"Model Makers, Metal and Plastic\", \"Conveyor Operators and Tenders\", \"Transportation Planners\", \"Forestry and Conservation Science Teachers, Postsecondary\", \"Glass Blowers, Molders, Benders, and Finishers\", \"Chemists\", \"Atmospheric, Earth, Marine, and Space Sciences Teachers, Postsecondary\", \"Electrical and Electronics Repairers, Powerhouse, Substation, and Relay\", \"Water and Wastewater Treatment Plant and System Operators\", \"Security and Fire Alarm Systems Installers\", \"Chemical Equipment Operators and Tenders\", \"Farm and Ranch Managers\", \"Surgeons\", \"Plumbers\", \"Maintenance Workers, Machinery\", \"Biochemists and Biophysicists\", \"Computer, Automated Teller, and Office Machine Repairers\", \"Telecommunications Equipment Installers and Repairers, Except Line Installers\", \"Mechanical Door Repairers\", \"Software Developers, Applications\", \"Automotive Specialty Technicians\", \"Environmental Restoration Planners\", \"Cabinetmakers and Bench Carpenters\", \"Energy Auditors\", \"Precision Agriculture Technicians\", \"Reinforcing Iron and Rebar Workers\", \"First-Line Supervisors of Production and Operating Workers\", \"Multiple Machine Tool Setters, Operators, and Tenders, Metal and Plastic\", \"Mapping Technicians\", \"Environmental Scientists and Specialists, Including Health\", \"Signal and Track Switch Repairers\", \"Foundry Mold and Coremakers\", \"Computer User Support Specialists\", \"Boilermakers\", \"Geological Sample Test Technicians\", \"Forensic Science Technicians\", \"Rail-Track Laying and Maintenance Equipment Operators\", \"Engine and Other Machine Assemblers\", \"Pipe Fitters and Steamfitters\", \"Electric Motor, Power Tool, and Related Repairers\", \"Welders, Cutters, and Welder Fitters\", \"Heating and Air Conditioning Mechanics and Installers\", \"Logistics Analysts\", \"Range Managers\", \"Radiologists\", \"Aircraft Structure, Surfaces, Rigging, and Systems Assemblers\", \"Web Administrators\", \"Video Game Designers\", \"Information Technology Project Managers\", \"Biologists\", \"Database Administrators\", \"Bioinformatics Scientists\", \"Foresters\", \"Instructional Designers and Technologists\", \"Electricians\", \"Outdoor Power Equipment and Other Small Engine Mechanics\", \"Medical Appliance Technicians\", \"Technical Writers\", \"Insurance Appraisers, Auto Damage\", \"Sheet Metal Workers\", \"Helpers--Pipelayers, Plumbers, Pipefitters, and Steamfitters\", \"Museum Technicians and Conservators\", \"Bioinformatics Technicians\", \"Telecommunications Line Installers and Repairers\", \"Security Managers\", \"First-Line Supervisors of Construction Trades and Extraction Workers\", \"Farm Equipment Mechanics and Service Technicians\", \"Biomass Plant Technicians\", \"Municipal Fire Fighting and Prevention Supervisors\", \"Geothermal Technicians\", \"Machinists\", \"Agricultural Technicians\", \"Weatherization Installers and Technicians\", \"Logistics Managers\", \"Natural Sciences Managers\", \"Medical Scientists, Except Epidemiologists\", \"Atmospheric and Space Scientists\", \"Helpers--Carpenters\", \"Structural Metal Fabricators and Fitters\", \"Crushing, Grinding, and Polishing Machine Setters, Operators, and Tenders\", \"Gas Compressor and Gas Pumping Station Operators\", \"Emergency Management Directors\", \"Audio-Visual and Multimedia Collections Specialists\", \"Paving, Surfacing, and Tamping Equipment Operators\", \"Purchasing Agents, Except Wholesale, Retail, and Farm Products\", \"Tool Grinders, Filers, and Sharpeners\", \"Logisticians\", \"Stationary Engineers and Boiler Operators\", \"Marketing Managers\", \"Cement Masons and Concrete Finishers\", \"Purchasing Managers\", \"Freight and Cargo Inspectors\", \"Energy Brokers\", \"Forest and Conservation Technicians\", \"Timing Device Assemblers and Adjusters\", \"Document Management Specialists\", \"Climate Change Analysts\", \"Radiologic Technologists\", \"Drilling and Boring Machine Tool Setters, Operators, and Tenders, Metal and Plastic\", \"Ophthalmic Laboratory Technicians\", \"Magnetic Resonance Imaging Technologists\", \"Fire Investigators\", \"Locksmiths and Safe Repairers\", \"Cooling and Freezing Equipment Operators and Tenders\", \"Nursery and Greenhouse Managers\", \"Construction Carpenters\", \"Maintenance and Repair Workers, General\", \"Airline Pilots, Copilots, and Flight Engineers\", \"Computer and Information Systems Managers\", \"Film and Video Editors\", \"Semiconductor Processors\", \"Mates- Ship, Boat, and Barge\", \"Mathematical Technicians\", \"Environmental Science Teachers, Postsecondary\", \"First-Line Supervisors of Agricultural Crop and Horticultural Workers\", \"Pile-Driver Operators\", \"Drywall and Ceiling Tile Installers\", \"Control and Valve Installers and Repairers, Except Mechanical Door\", \"Commercial Divers\", \"Career/Technical Education Teachers, Middle School\", \"Nuclear Medicine Technologists\", \"Urologists\", \"Tire Repairers and Changers\", \"Wellhead Pumpers\", \"Supply Chain Managers\", \"Business Continuity Planners\", \"Construction Laborers\", \"Helpers--Extraction Workers\", \"Cutters and Trimmers, Hand\", \"Ship and Boat Captains\", \"Transportation Vehicle, Equipment and Systems Inspectors, Except Aviation\", \"Orthodontists\", \"Respiratory Therapy Technicians\", \"Rotary Drill Operators, Oil and Gas\", \"Recycling and Reclamation Workers\", \"Forest Fire Fighting and Prevention Supervisors\", \"Sales Representatives, Wholesale and Manufacturing, Technical and Scientific Products\", \"Dentists, General\", \"Roof Bolters, Mining\", \"Lathe and Turning Machine Tool Setters, Operators, and Tenders, Metal and Plastic\", \"Soil and Plant Scientists\", \"Brickmasons and Blockmasons\", \"Highway Maintenance Workers\", \"Continuous Mining Machine Operators\", \"Operating Engineers and Other Construction Equipment Operators\", \"Earth Drillers, Except Oil and Gas\", \"Lodging Managers\", \"Paperhangers\", \"Pipelayers\", \"Roofers\", \"Jewelers\", \"Hazardous Materials Removal Workers\", \"City and Regional Planning Aides\", \"Molding and Casting Workers\", \"Physical Medicine and Rehabilitation Physicians\", \"Pump Operators, Except Wellhead Pumpers\", \"Informatics Nurse Specialists\", \"Musical Instrument Repairers and Tuners\", \"Forest Firefighters\", \"Automotive Body and Related Repairers\", \"Plating and Coating Machine Setters, Operators, and Tenders, Metal and Plastic\", \"Petroleum Pump System Operators, Refinery Operators, and Gaugers\", \"Management Analysts\", \"Career/Technical Education Teachers, Secondary School\", \"Obstetricians and Gynecologists\", \"Commercial Pilots\", \"Loading Machine Operators, Underground Mining\", \"Health Specialties Teachers, Postsecondary\", \"Neurodiagnostic Technologists\", \"Rough Carpenters\", \"Mixing and Blending Machine Setters, Operators, and Tenders\", \"First-Line Supervisors of Landscaping, Lawn Service, and Groundskeeping Workers\", \"Segmental Pavers\", \"Helpers--Installation, Maintenance, and Repair Workers\", \"Metal-Refining Furnace Operators and Tenders\", \"Quality Control Systems Managers\", \"Web Developers\", \"Network and Computer Systems Administrators\", \"Ophthalmologists\", \"Cutting, Punching, and Press Machine Setters, Operators, and Tenders, Metal and Plastic\", \"Layout Workers, Metal and Plastic\", \"Gas Plant Operators\", \"Hoist and Winch Operators\", \"Business Intelligence Analysts\", \"Separating, Filtering, Clarifying, Precipitating, and Still Machine Setters, Operators, and Tenders\", \"Airfield Operations Specialists\", \"Molecular and Cellular Biologists\", \"Motorcycle Mechanics\", \"Transportation Managers\", \"Animal Scientists\", \"Grinding, Lapping, Polishing, and Buffing Machine Tool Setters, Operators, and Tenders, Metal and Plastic\", \"Program Directors\", \"Nurse Anesthetists\", \"Fabric Menders, Except Garment\", \"Machine Feeders and Offbearers\", \"General and Operations Managers\", \"Recreational Vehicle Service Technicians\", \"Municipal Firefighters\", \"Fire Inspectors\", \"Painters, Construction and Maintenance\", \"Milling and Planing Machine Setters, Operators, and Tenders, Metal and Plastic\", \"Helpers--Electricians\", \"Food Batchmakers\", \"Heat Treating Equipment Setters, Operators, and Tenders, Metal and Plastic\", \"Crane and Tower Operators\", \"Regulatory Affairs Managers\", \"Paper Goods Machine Setters, Operators, and Tenders\", \"Statistical Assistants\", \"Fiberglass Laminators and Fabricators\", \"Precious Metal Workers\", \"Biological Technicians\", \"First-Line Supervisors of Logging Workers\", \"Structural Iron and Steel Workers\", \"Textile Bleaching and Dyeing Machine Operators and Tenders\", \"Computer Programmers\", \"First-Line Supervisors of Housekeeping and Janitorial Workers\", \"Refuse and Recyclable Material Collectors\", \"Interior Designers\", \"Audiologists\", \"Floor Layers, Except Carpet, Wood, and Hard Tiles\", \"Potters, Manufacturing\", \"Recycling Coordinators\", \"Microbiologists\", \"Radiation Therapists\", \"Medical and Clinical Laboratory Technologists\", \"Cartographers and Photogrammetrists\", \"Anesthesiologists\", \"Electrical Power-Line Installers and Repairers\", \"Adhesive Bonding Machine Operators and Tenders\", \"Pathologists\", \"Terrazzo Workers and Finishers\", \"Automotive Glass Installers and Repairers\", \"Home Appliance Repairers\", \"Chemical Plant and System Operators\"]}'"
            ]
          },
          "metadata": {
            "tags": []
          },
          "execution_count": 54
        }
      ]
    },
    {
      "cell_type": "code",
      "metadata": {
        "id": "b5-z15nQ8T1h"
      },
      "source": [
        "# posting to the request bin (Used https://requestbin.com/ to create a request bin)\r\n",
        "\r\n",
        "import requests, time\r\n",
        "r = requests.post('https://en1fhy5k6a8ihi.x.pipedream.net/', data={jsn:time.time()})"
      ],
      "execution_count": 55,
      "outputs": []
    },
    {
      "cell_type": "code",
      "metadata": {
        "colab": {
          "base_uri": "https://localhost:8080/"
        },
        "id": "ZWsu_2Yqewot",
        "outputId": "9c1d44a1-ebb2-41d0-8fb5-fd5028e0257e"
      },
      "source": [
        "# Check the status of the request\r\n",
        "\r\n",
        "print (r.status_code)\r\n",
        "r.content"
      ],
      "execution_count": 56,
      "outputs": [
        {
          "output_type": "stream",
          "text": [
            "200\n"
          ],
          "name": "stdout"
        },
        {
          "output_type": "execute_result",
          "data": {
            "text/plain": [
              "b'{\"success\":true}'"
            ]
          },
          "metadata": {
            "tags": []
          },
          "execution_count": 56
        }
      ]
    }
  ]
}